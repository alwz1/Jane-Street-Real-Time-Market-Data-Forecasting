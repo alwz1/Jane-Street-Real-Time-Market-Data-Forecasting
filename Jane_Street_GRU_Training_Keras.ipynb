{
  "cells": [
    {
      "cell_type": "code",
      "execution_count": 1,
      "metadata": {
        "colab": {
          "base_uri": "https://localhost:8080/"
        },
        "id": "o3Idt8QOwmIK",
        "outputId": "51d06721-0756-45ff-ef13-ef01d6d67785"
      },
      "outputs": [
        {
          "output_type": "stream",
          "name": "stdout",
          "text": [
            "Drive already mounted at /content/drive; to attempt to forcibly remount, call drive.mount(\"/content/drive\", force_remount=True).\n"
          ]
        }
      ],
      "source": [
        "from google.colab import drive\n",
        "drive.mount('/content/drive')"
      ]
    },
    {
      "cell_type": "code",
      "execution_count": 2,
      "metadata": {
        "id": "w30tW-FrEVsK"
      },
      "outputs": [],
      "source": [
        "import subprocess\n",
        "\n",
        "def install_packages(packages):\n",
        "    \"\"\"\n",
        "    Install a list of packages using pip.\n",
        "\n",
        "    Args:\n",
        "        packages (list): A list of package names to install.\n",
        "    \"\"\"\n",
        "    for package in packages:\n",
        "        subprocess.run([\"pip\", \"install\", package], check=True)\n"
      ]
    },
    {
      "cell_type": "code",
      "execution_count": 3,
      "metadata": {
        "id": "L8DydRgCEdKj"
      },
      "outputs": [],
      "source": [
        "packages_to_install = [\"keras_hub\", \"polars==1.19.0\"]\n",
        "\n",
        "# Install the packages\n",
        "install_packages(packages_to_install)\n",
        "\n",
        "# Core data processing and numerical libraries\n",
        "import os\n",
        "\n",
        "os.environ[\"KERAS_BACKEND\"] = \"jax\"\n",
        "import keras\n",
        "import numpy as np\n",
        "import pandas as pd\n",
        "import polars as pl\n",
        "\n",
        "from typing import Dict, List, Tuple\n",
        "\n",
        "\n",
        "import matplotlib.pyplot as plt\n",
        "\n",
        "import tensorflow as tf\n",
        "\n",
        "from keras import layers\n",
        "from keras import Model\n",
        "from keras import ops\n",
        "from keras_hub.layers import TransformerEncoder\n",
        "from keras import regularizers\n",
        "\n",
        "from sklearn.metrics import r2_score\n",
        "\n",
        "from pathlib import Path\n",
        "import gc\n",
        "\n",
        "DATA_DIR = Path(\"/content/drive/MyDrive/Colab Notebooks/Jane_Street/data/train.parquet/\")"
      ]
    },
    {
      "cell_type": "code",
      "execution_count": 4,
      "metadata": {
        "colab": {
          "base_uri": "https://localhost:8080/",
          "height": 35
        },
        "id": "SD5b904NS9hl",
        "outputId": "a2dd5910-3d6c-4615-c842-5ddaba889da0"
      },
      "outputs": [
        {
          "output_type": "execute_result",
          "data": {
            "text/plain": [
              "'1.19.0'"
            ],
            "application/vnd.google.colaboratory.intrinsic+json": {
              "type": "string"
            }
          },
          "metadata": {},
          "execution_count": 4
        }
      ],
      "source": [
        "pl.__version__"
      ]
    },
    {
      "cell_type": "code",
      "execution_count": 5,
      "metadata": {
        "id": "xjHi5yumpSbk"
      },
      "outputs": [],
      "source": [
        "class DataProcessor:\n",
        "    ALL_FEATURES = [f\"feature_{i:02}\" for i in range(79)]\n",
        "    FEATURES = [x for x in ALL_FEATURES if x not in\n",
        "     [\"feature_09\", \"feature_10\", \"feature_11\"]]\n",
        "    # selected features from\n",
        "    # https://github.com/evgeniavolkova/kagglejanestreet/blob/master/janestreet/data_processor.py\n",
        "    SELECT_FEATURES = [\n",
        "        'feature_06',\n",
        "        'feature_04',\n",
        "        'feature_07',\n",
        "        'feature_36',\n",
        "        'feature_60',\n",
        "        'feature_45',\n",
        "        'feature_56',\n",
        "        'feature_05',\n",
        "        'feature_51',\n",
        "        'feature_19',\n",
        "        'feature_66',\n",
        "        'feature_59',\n",
        "        'feature_54',\n",
        "        'feature_70',\n",
        "        'feature_71',\n",
        "        'feature_72',\n",
        "    ]\n",
        "    CAT_FEATURES = [\"feature_09\", \"feature_10\", \"feature_11\"]\n",
        "    RESPONDERS = [f\"responder_{i}\" for i in range(9)]\n",
        "    FEATURE_09_DICT = {\n",
        "        2: 0,\n",
        "        4: 1,\n",
        "        9: 2,\n",
        "        11: 3,\n",
        "        12: 4,\n",
        "        14: 5,\n",
        "        15: 6,\n",
        "        25: 7,\n",
        "        26: 8,\n",
        "        30: 9,\n",
        "        34: 10,\n",
        "        42: 11,\n",
        "        44: 12,\n",
        "        46: 13,\n",
        "        49: 14,\n",
        "        50: 15,\n",
        "        57: 16,\n",
        "        64: 17,\n",
        "        68: 18,\n",
        "        70: 19,\n",
        "        81: 20,\n",
        "        82: 21\n",
        "        }\n",
        "    FEATURE_10_DICT = {1: 0, 2: 1, 3: 2, 4: 3, 5: 4, 6: 5, 7: 6, 10: 7, 12: 8}\n",
        "    FEATURE_11_DICT = {\n",
        "        9: 0,\n",
        "        11: 1,\n",
        "        13: 2,\n",
        "        16: 3,\n",
        "        24: 4,\n",
        "        25: 5,\n",
        "        34: 6,\n",
        "        40: 7,\n",
        "        48: 8,\n",
        "        50: 9,\n",
        "        59: 10,\n",
        "        62: 11,\n",
        "        63: 12,\n",
        "        66: 13,\n",
        "        76: 14,\n",
        "        150: 15,\n",
        "        158: 16,\n",
        "        159: 17,\n",
        "        171: 18,\n",
        "        195: 19,\n",
        "        214: 20,\n",
        "        230: 21,\n",
        "        261: 22,\n",
        "        297: 23,\n",
        "        336: 24,\n",
        "        376: 25,\n",
        "        388: 26,\n",
        "        410: 27,\n",
        "        522: 28,\n",
        "        534: 29,\n",
        "        539: 30\n",
        "    }\n",
        "\n",
        "    def __init__(self, df: pl.LazyFrame):\n",
        "        self.df = df\n",
        "\n",
        "    def reduce_memory_usage(self) -> list[pl.Expr]:\n",
        "        expressions = [\n",
        "            pl.col(pl.Float64).cast(pl.Float32),\n",
        "            pl.col(\"date_id\").cast(pl.Int16),\n",
        "            pl.col(\"time_id\").cast(pl.Int16),\n",
        "            pl.col(\"symbol_id\").cast(pl.Int8),\n",
        "        ]\n",
        "        return expressions\n",
        "\n",
        "    def map_category(self) -> list[pl.Expr]:\n",
        "        expressions = [\n",
        "            pl.col('symbol_id').replace({i: i for i in range(39)}).fill_null(99),\n",
        "            pl.col('feature_09').replace(DataProcessor.FEATURE_09_DICT).fill_null(99),\n",
        "            pl.col('feature_10').replace(DataProcessor.FEATURE_10_DICT).fill_null(99),\n",
        "            pl.col('feature_11').replace(DataProcessor.FEATURE_11_DICT).fill_null(99),\n",
        "        ]\n",
        "        return expressions\n",
        "\n",
        "    def get_lag_responders(self) -> list[pl.Expr]:\n",
        "        cols = [f\"responder_{i}\" for i in range(9)]\n",
        "        expressions = [\n",
        "            pl.col(col)\n",
        "            .shift(i)\n",
        "            .fill_null(0)\n",
        "            .over('symbol_id', 'time_id')\n",
        "            .alias(f\"{col}_lag_{i}\")\n",
        "            for col in cols for i in [1]  # lags\n",
        "        ]\n",
        "        return expressions\n",
        "\n",
        "    def get_temporal_features(self) -> list[pl.Expr]:\n",
        "        expressions = [\n",
        "            (pl.col('date_id') % 170).alias('day'),\n",
        "            (pl.col('date_id') * 2 * np.pi / 170).sin()\\\n",
        "            .cast(pl.Float32).alias('date_sin'),\n",
        "            (pl.col('date_id') * 2 * np.pi / 170).cos()\\\n",
        "            .cast(pl.Float32).alias('date_cos'),\n",
        "        ]\n",
        "        return expressions\n",
        "\n",
        "    def get_tag_average(self) -> list[pl.Expr]:\n",
        "        expressions = [\n",
        "            pl.mean_horizontal(['feature_67', 'feature_68', 'feature_69'])\\\n",
        "            .alias('tag_11_mean'),\n",
        "        ]\n",
        "        return expressions\n",
        "\n",
        "    def get_select_lag_features(self) -> list[pl.Expr]:\n",
        "        group = ['symbol_id', 'date_id']\n",
        "        expressions = [\n",
        "            pl.col('feature_07').shift(2).fill_null(0)\\\n",
        "            .over(group).alias('feature_07_lag'),\n",
        "            pl.col('feature_06').shift(1).fill_null(0)\\\n",
        "            .over(group).alias('feature_06_lag'),\n",
        "            pl.col('feature_60').shift(2).fill_null(0)\\\n",
        "            .over(group).alias('feature_60_lag'),\n",
        "        ]\n",
        "        return expressions\n",
        "\n",
        "    def get_lag_responder_stats_per_day(self) -> list[pl.Expr]:\n",
        "        group = [\"date_id\", \"symbol_id\"]\n",
        "        cols = ['responder_6_lag_1']\n",
        "        expressions = []\n",
        "        for col in cols:\n",
        "            exprs = [\n",
        "                pl.col(col).max().over(group).alias(f\"{col}_max\"),\n",
        "                # pl.col(col).min().over(group).alias(f\"{col}_min\"),\n",
        "                # pl.col(col).mean().over(group).alias(f\"{col}_mean\"),\n",
        "                # pl.col(col).std().over(group).alias(f\"{col}_std\")\n",
        "            ]\n",
        "            expressions.extend(exprs)\n",
        "        return expressions\n",
        "\n",
        "    def get_stats_per_date_time(self) -> list[pl.Expr]:\n",
        "        group = [\"date_id\", \"time_id\"]\n",
        "        expressions = []\n",
        "        for col in DataProcessor.SELECT_FEATURES:\n",
        "            exprs =[\n",
        "                pl.col(col).mean().over(group).alias(f\"{col}_mean\"),\n",
        "                pl.col(col).std().over(group).alias(f\"{col}_std\"),\n",
        "                # pl.col(col).skew().over(group).alias(f\"{col}_skew\"),\n",
        "                # pl.col(col).kurtosis().over(group).alias(f\"{col}_kurtosis\")\n",
        "            ]\n",
        "            expressions.extend(exprs)\n",
        "        return expressions\n",
        "\n",
        "    def get_diff_means(self) -> list[pl.Expr]:\n",
        "        expressions = [\n",
        "            (pl.col(col) - pl.col(f\"{col}_mean\")).alias(f\"{col}_diff_mean\")\n",
        "            for col in DataProcessor.SELECT_FEATURES\n",
        "        ]\n",
        "        return expressions\n",
        "\n",
        "    def min_max_scaler(self, df: pl.DataFrame, columns: List) -> pl.DataFrame:\n",
        "        for col in columns:\n",
        "            col_min = df.select(col).min()\n",
        "            col_max = df.select(col).max()\n",
        "            df = df.with_columns(\n",
        "                ((pl.col(col) - col_min) / ((col_max - col_min)+1e-10))\n",
        "                .alias(col)\n",
        "                )\n",
        "        return df\n",
        "\n",
        "    def generate_features(self) -> pl.DataFrame:\n",
        "        exprs_1 = [\n",
        "            self.reduce_memory_usage(),\n",
        "            self.get_temporal_features(),\n",
        "            self.get_tag_average(),\n",
        "            self.get_select_lag_features(),\n",
        "            self.get_stats_per_date_time(),\n",
        "            # self.get_lag_responders(),\n",
        "        ]\n",
        "        expressions_1 = [e for sublist in exprs_1 for e in sublist]  # Flatten the list\n",
        "        df = self.df.with_columns(expressions_1)\n",
        "\n",
        "        exprs_2 = [\n",
        "            self.map_category(),\n",
        "            # self.get_lag_responder_stats_per_day(),\n",
        "            [pl.col('time_id') / 968, pl.col('day') / 170]\n",
        "        ]\n",
        "        expressions_2 = [e for sublist in exprs_2 for e in sublist]\n",
        "        df = df.with_columns(expressions_2)\n",
        "        df = df.with_columns(self.map_category())\n",
        "\n",
        "        ign_cols = [x for x in DataProcessor.RESPONDERS if x != 'responder_6']\\\n",
        "                  + ['partition_id'] \\\n",
        "                  # + [f\"responder_{i}_lag_1\" for i in range(9)] \\\n",
        "                  # + [f\"{col}_mean\" for col in DataProcessor.SELECT_FEATURES] \\\n",
        "                  # + [f\"{col}_rmean\" for col in DataProcessor.SELECT_FEATURES] \\\n",
        "        df = df.drop(ign_cols).fill_null(0)\n",
        "\n",
        "        return df"
      ]
    },
    {
      "cell_type": "code",
      "source": [
        "# pl.scan_parquet(DATA_DIR).filter(pl.col('partition_id')>5).select('date_id').first().collect()"
      ],
      "metadata": {
        "id": "ua1Ammsuxip5"
      },
      "execution_count": 6,
      "outputs": []
    },
    {
      "cell_type": "code",
      "source": [
        "def get_initial_lags(df: pl.LazyFrame, date_id: int) -> pl.DataFrame:\n",
        "    df_lags = (\n",
        "        df.filter(pl.col('date_id')==date_id)\n",
        "        .select(['time_id', 'symbol_id'] + [f\"responder_{i}\" for i in range(9)])\n",
        "        .collect()\n",
        "        )\n",
        "    df_lags = df_lags.rename(dict(zip([f\"responder_{i}\" for i in range(9)],\n",
        "                            [f\"responder_{i}_lag_1\" for i in range(9)])))\n",
        "    return df_lags\n",
        "\n",
        "\n",
        "df = pl.scan_parquet(DATA_DIR).filter(pl.col('date_id')>=700)\n",
        "df_train = df.filter(pl.col('date_id') < 1572, pl.col('date_id')!=700)\n",
        "df_valid = df.filter(pl.col('date_id') > 1576)\n",
        "\n",
        "train_lags = get_initial_lags(df, 700)\n",
        "valid_lags = get_initial_lags(df, 1576)"
      ],
      "metadata": {
        "id": "0iJS8fk70mAH"
      },
      "execution_count": 7,
      "outputs": []
    },
    {
      "cell_type": "code",
      "execution_count": 8,
      "metadata": {
        "colab": {
          "base_uri": "https://localhost:8080/"
        },
        "id": "JFw8_bo6QhCz",
        "outputId": "8da5c57e-5a1f-4b5d-a1ec-96b5c76f0c8e"
      },
      "outputs": [
        {
          "output_type": "stream",
          "name": "stdout",
          "text": [
            "\u001b[1m1123/1123\u001b[0m \u001b[32m━━━━━━━━━━━━━━━━━━━━\u001b[0m\u001b[37m\u001b[0m \u001b[1m1s\u001b[0m 485us/step\n",
            "\u001b[1m1123/1123\u001b[0m \u001b[32m━━━━━━━━━━━━━━━━━━━━\u001b[0m\u001b[37m\u001b[0m \u001b[1m1s\u001b[0m 554us/step\n",
            "\u001b[1m1123/1123\u001b[0m \u001b[32m━━━━━━━━━━━━━━━━━━━━\u001b[0m\u001b[37m\u001b[0m \u001b[1m1s\u001b[0m 430us/step\n",
            "\u001b[1m1123/1123\u001b[0m \u001b[32m━━━━━━━━━━━━━━━━━━━━\u001b[0m\u001b[37m\u001b[0m \u001b[1m1s\u001b[0m 474us/step\n"
          ]
        },
        {
          "output_type": "execute_result",
          "data": {
            "text/plain": [
              "1423"
            ]
          },
          "metadata": {},
          "execution_count": 8
        }
      ],
      "source": [
        "def get_embeddings(df: pl.LazyFrame, col: str, embd_dim: int):\n",
        "    df_col = df.filter(pl.col('time_id')==0).select(col).collect()\n",
        "    num_unique = df_col.n_unique()\n",
        "    model = keras.Sequential() # keras embedding model\n",
        "    model.add(keras.layers.Embedding(num_unique, embd_dim))\n",
        "    model.compile('rmsprop', 'mse')\n",
        "    embeddings = model.predict(df_col).reshape(-1, embd_dim)\n",
        "    embeddings = pl.DataFrame(\n",
        "        np.repeat(embeddings, 968, axis=0),\n",
        "        schema=[f\"{col}_embd_{i}\" for i in range(embd_dim)]\n",
        "        )\n",
        "    return embeddings\n",
        "\n",
        "df_symbol = get_embeddings(df, 'symbol_id', 20)\n",
        "df_feat_09 = get_embeddings(df, 'feature_09', 11)\n",
        "df_feat_10 = get_embeddings(df, 'feature_10', 9)\n",
        "df_feat_11 = get_embeddings(df, 'feature_11', 15)\n",
        "\n",
        "#  # one-hot encoding\n",
        "# df_symbol = df.select('symbol_id').collect().to_dummies()\n",
        "# df_feat_09 = df.select('feature_09').collect().to_dummies()\n",
        "# df_feat_10 = df.select('feature_10').collect().to_dummies()\n",
        "# df_feat_11 = df.select('feature_11').collect().to_dummies()\n",
        "\n",
        "df_embeddings = pl.concat([df_symbol, df_feat_09, df_feat_10, df_feat_11],\n",
        "                          how='horizontal')\n",
        "df_embeddings.columns = [f\"embd_{i}\" for i in range(df_embeddings.shape[1])]\n",
        "df_embeddings = pl.concat(\n",
        "    [df.select('date_id').collect(), df_embeddings], how='horizontal'\n",
        "    )\n",
        "\n",
        "del df_symbol, df_feat_09, df_feat_10, df_feat_11\n",
        "gc.collect()"
      ]
    },
    {
      "cell_type": "code",
      "execution_count": 9,
      "metadata": {
        "colab": {
          "base_uri": "https://localhost:8080/"
        },
        "id": "6d3b2JjgyoKS",
        "outputId": "5dc03b94-2079-480a-94eb-dccc6f99e72e"
      },
      "outputs": [
        {
          "output_type": "execute_result",
          "data": {
            "text/plain": [
              "(34764752, 56)"
            ]
          },
          "metadata": {},
          "execution_count": 9
        }
      ],
      "source": [
        "df_embeddings.shape"
      ]
    },
    {
      "cell_type": "code",
      "execution_count": 10,
      "metadata": {
        "id": "iKnRxoI49sk-"
      },
      "outputs": [],
      "source": [
        "class DataGenerator(tf.keras.utils.Sequence):\n",
        "\n",
        "    def __init__(\n",
        "        self, df: pl.LazyFrame, lags: pl.DataFrame, embeddings: pl.DataFrame,\n",
        "        **kwargs\n",
        "        ):\n",
        "        super().__init__(**kwargs)\n",
        "        self.df = df\n",
        "        self.lags = lags\n",
        "        self.embeddings = embeddings\n",
        "        self.date_ids = df.select('date_id').unique().sort('date_id').collect()\n",
        "        self.targets = ['responder_6']\n",
        "\n",
        "    def __len__(self):\n",
        "        return len(self.date_ids) - 1\n",
        "\n",
        "    def __getitem__(self, idx):\n",
        "        RESPONDERS = [f\"responder_{i}\" for i in range(9)]\n",
        "        LAG_RESPONDERS = [f\"responder_{i}_lag_1\" for i in range(9)]\n",
        "        EMBEDDING_COLS = self.embeddings.columns\n",
        "        TEMPORAL_COLS = ['time_id', 'day', 'date_sin', 'date_cos']\n",
        "        IGNORED_COLS = ['date_id', 'symbol_id', 'feature_09', 'feature_10',\n",
        "                       'feature_11', 'partition_id']\n",
        "\n",
        "        date_id = self.date_ids[idx]\n",
        "        df_cur = self.df.filter(pl.col('date_id') == date_id).collect()\n",
        "        df_embeddings_cur = self.embeddings.filter(pl.col('date_id') == date_id)\n",
        "\n",
        "        if idx > 0:\n",
        "            date_id_prev = self.date_ids[idx - 1]\n",
        "            df_prev_responders = (\n",
        "                self.df.filter(pl.col('date_id') == date_id_prev)\n",
        "                .select(['time_id', 'symbol_id'] + RESPONDERS)\n",
        "                .collect()\n",
        "                )\n",
        "            df_prev_responders = df_prev_responders.rename(\n",
        "                dict(zip(RESPONDERS, LAG_RESPONDERS)))\n",
        "        else:\n",
        "            df_prev_responders = self.lags\n",
        "\n",
        "        df_cur = df_cur.join(\n",
        "            df_prev_responders, on=['symbol_id', 'time_id'], how='left'\n",
        "            )\n",
        "        df_cur = pl.concat([df_cur, df_embeddings_cur.drop('date_id')], how='horizontal')\n",
        "\n",
        "        processor = DataProcessor(df_cur)\n",
        "        df_cur = processor.generate_features()\n",
        "\n",
        "        df_cur = df_cur.fill_null(0)\n",
        "        df_cur = df_cur.fill_nan(0)\n",
        "\n",
        "        trend_data = df_cur.select(pl.all().exclude(IGNORED_COLS + RESPONDERS))\n",
        "        scaled_cols = [col for col in trend_data.columns if col not in\n",
        "                       EMBEDDING_COLS + TEMPORAL_COLS]\n",
        "        trend_data = processor.min_max_scaler(trend_data, scaled_cols)\n",
        "        num_feats = trend_data.shape[1]\n",
        "        trend_data = trend_data.to_numpy().reshape(-1, 968, num_feats)\n",
        "        target_data = df_cur.select(self.targets).to_numpy().reshape(-1, 968, 1)\n",
        "\n",
        "        return trend_data, target_data\n",
        "\n",
        "    @property\n",
        "    def num_batches(self):\n",
        "        return len(self)\n",
        "\n",
        "train_generator = DataGenerator(df_train, train_lags, df_embeddings)\n",
        "valid_generator = DataGenerator(df_valid, valid_lags, df_embeddings)"
      ]
    },
    {
      "cell_type": "code",
      "execution_count": 11,
      "metadata": {
        "colab": {
          "base_uri": "https://localhost:8080/"
        },
        "id": "X0XLUPYJgkl_",
        "outputId": "79b11df6-9390-4344-ed5d-983413503694"
      },
      "outputs": [
        {
          "output_type": "stream",
          "name": "stdout",
          "text": [
            "(29, 968, 181) (29, 968, 1)\n"
          ]
        }
      ],
      "source": [
        "for x, y in train_generator:\n",
        "    print(x.shape, y.shape)\n",
        "    break"
      ]
    },
    {
      "cell_type": "code",
      "execution_count": 12,
      "metadata": {
        "id": "wJjgw1Pk3cId",
        "colab": {
          "base_uri": "https://localhost:8080/",
          "height": 338
        },
        "outputId": "c856c0b6-a7a9-4319-bbc2-1205c199b55d"
      },
      "outputs": [
        {
          "output_type": "stream",
          "name": "stdout",
          "text": [
            "Expected Model Input Shape: (None, 968, 181)\n"
          ]
        },
        {
          "output_type": "display_data",
          "data": {
            "text/plain": [
              "\u001b[1mModel: \"functional_4\"\u001b[0m\n"
            ],
            "text/html": [
              "<pre style=\"white-space:pre;overflow-x:auto;line-height:normal;font-family:Menlo,'DejaVu Sans Mono',consolas,'Courier New',monospace\"><span style=\"font-weight: bold\">Model: \"functional_4\"</span>\n",
              "</pre>\n"
            ]
          },
          "metadata": {}
        },
        {
          "output_type": "display_data",
          "data": {
            "text/plain": [
              "┏━━━━━━━━━━━━━━━━━━━━━━━━━━━━━━━━━━━━━━┳━━━━━━━━━━━━━━━━━━━━━━━━━━━━━┳━━━━━━━━━━━━━━━━━┓\n",
              "┃\u001b[1m \u001b[0m\u001b[1mLayer (type)                        \u001b[0m\u001b[1m \u001b[0m┃\u001b[1m \u001b[0m\u001b[1mOutput Shape               \u001b[0m\u001b[1m \u001b[0m┃\u001b[1m \u001b[0m\u001b[1m        Param #\u001b[0m\u001b[1m \u001b[0m┃\n",
              "┡━━━━━━━━━━━━━━━━━━━━━━━━━━━━━━━━━━━━━━╇━━━━━━━━━━━━━━━━━━━━━━━━━━━━━╇━━━━━━━━━━━━━━━━━┩\n",
              "│ input_layer_4 (\u001b[38;5;33mInputLayer\u001b[0m)           │ (\u001b[38;5;45mNone\u001b[0m, \u001b[38;5;34m968\u001b[0m, \u001b[38;5;34m181\u001b[0m)            │               \u001b[38;5;34m0\u001b[0m │\n",
              "├──────────────────────────────────────┼─────────────────────────────┼─────────────────┤\n",
              "│ cast (\u001b[38;5;33mCast\u001b[0m)                          │ (\u001b[38;5;45mNone\u001b[0m, \u001b[38;5;34m968\u001b[0m, \u001b[38;5;34m181\u001b[0m)            │               \u001b[38;5;34m0\u001b[0m │\n",
              "├──────────────────────────────────────┼─────────────────────────────┼─────────────────┤\n",
              "│ gru (\u001b[38;5;33mGRU\u001b[0m)                            │ (\u001b[38;5;45mNone\u001b[0m, \u001b[38;5;34m968\u001b[0m, \u001b[38;5;34m128\u001b[0m)            │         \u001b[38;5;34m119,424\u001b[0m │\n",
              "├──────────────────────────────────────┼─────────────────────────────┼─────────────────┤\n",
              "│ gru_1 (\u001b[38;5;33mGRU\u001b[0m)                          │ (\u001b[38;5;45mNone\u001b[0m, \u001b[38;5;34m128\u001b[0m)                 │          \u001b[38;5;34m99,072\u001b[0m │\n",
              "├──────────────────────────────────────┼─────────────────────────────┼─────────────────┤\n",
              "│ dropout (\u001b[38;5;33mDropout\u001b[0m)                    │ (\u001b[38;5;45mNone\u001b[0m, \u001b[38;5;34m128\u001b[0m)                 │               \u001b[38;5;34m0\u001b[0m │\n",
              "├──────────────────────────────────────┼─────────────────────────────┼─────────────────┤\n",
              "│ dense (\u001b[38;5;33mDense\u001b[0m)                        │ (\u001b[38;5;45mNone\u001b[0m, \u001b[38;5;34m968\u001b[0m)                 │         \u001b[38;5;34m124,872\u001b[0m │\n",
              "└──────────────────────────────────────┴─────────────────────────────┴─────────────────┘\n"
            ],
            "text/html": [
              "<pre style=\"white-space:pre;overflow-x:auto;line-height:normal;font-family:Menlo,'DejaVu Sans Mono',consolas,'Courier New',monospace\">┏━━━━━━━━━━━━━━━━━━━━━━━━━━━━━━━━━━━━━━┳━━━━━━━━━━━━━━━━━━━━━━━━━━━━━┳━━━━━━━━━━━━━━━━━┓\n",
              "┃<span style=\"font-weight: bold\"> Layer (type)                         </span>┃<span style=\"font-weight: bold\"> Output Shape                </span>┃<span style=\"font-weight: bold\">         Param # </span>┃\n",
              "┡━━━━━━━━━━━━━━━━━━━━━━━━━━━━━━━━━━━━━━╇━━━━━━━━━━━━━━━━━━━━━━━━━━━━━╇━━━━━━━━━━━━━━━━━┩\n",
              "│ input_layer_4 (<span style=\"color: #0087ff; text-decoration-color: #0087ff\">InputLayer</span>)           │ (<span style=\"color: #00d7ff; text-decoration-color: #00d7ff\">None</span>, <span style=\"color: #00af00; text-decoration-color: #00af00\">968</span>, <span style=\"color: #00af00; text-decoration-color: #00af00\">181</span>)            │               <span style=\"color: #00af00; text-decoration-color: #00af00\">0</span> │\n",
              "├──────────────────────────────────────┼─────────────────────────────┼─────────────────┤\n",
              "│ cast (<span style=\"color: #0087ff; text-decoration-color: #0087ff\">Cast</span>)                          │ (<span style=\"color: #00d7ff; text-decoration-color: #00d7ff\">None</span>, <span style=\"color: #00af00; text-decoration-color: #00af00\">968</span>, <span style=\"color: #00af00; text-decoration-color: #00af00\">181</span>)            │               <span style=\"color: #00af00; text-decoration-color: #00af00\">0</span> │\n",
              "├──────────────────────────────────────┼─────────────────────────────┼─────────────────┤\n",
              "│ gru (<span style=\"color: #0087ff; text-decoration-color: #0087ff\">GRU</span>)                            │ (<span style=\"color: #00d7ff; text-decoration-color: #00d7ff\">None</span>, <span style=\"color: #00af00; text-decoration-color: #00af00\">968</span>, <span style=\"color: #00af00; text-decoration-color: #00af00\">128</span>)            │         <span style=\"color: #00af00; text-decoration-color: #00af00\">119,424</span> │\n",
              "├──────────────────────────────────────┼─────────────────────────────┼─────────────────┤\n",
              "│ gru_1 (<span style=\"color: #0087ff; text-decoration-color: #0087ff\">GRU</span>)                          │ (<span style=\"color: #00d7ff; text-decoration-color: #00d7ff\">None</span>, <span style=\"color: #00af00; text-decoration-color: #00af00\">128</span>)                 │          <span style=\"color: #00af00; text-decoration-color: #00af00\">99,072</span> │\n",
              "├──────────────────────────────────────┼─────────────────────────────┼─────────────────┤\n",
              "│ dropout (<span style=\"color: #0087ff; text-decoration-color: #0087ff\">Dropout</span>)                    │ (<span style=\"color: #00d7ff; text-decoration-color: #00d7ff\">None</span>, <span style=\"color: #00af00; text-decoration-color: #00af00\">128</span>)                 │               <span style=\"color: #00af00; text-decoration-color: #00af00\">0</span> │\n",
              "├──────────────────────────────────────┼─────────────────────────────┼─────────────────┤\n",
              "│ dense (<span style=\"color: #0087ff; text-decoration-color: #0087ff\">Dense</span>)                        │ (<span style=\"color: #00d7ff; text-decoration-color: #00d7ff\">None</span>, <span style=\"color: #00af00; text-decoration-color: #00af00\">968</span>)                 │         <span style=\"color: #00af00; text-decoration-color: #00af00\">124,872</span> │\n",
              "└──────────────────────────────────────┴─────────────────────────────┴─────────────────┘\n",
              "</pre>\n"
            ]
          },
          "metadata": {}
        },
        {
          "output_type": "display_data",
          "data": {
            "text/plain": [
              "\u001b[1m Total params: \u001b[0m\u001b[38;5;34m343,368\u001b[0m (1.31 MB)\n"
            ],
            "text/html": [
              "<pre style=\"white-space:pre;overflow-x:auto;line-height:normal;font-family:Menlo,'DejaVu Sans Mono',consolas,'Courier New',monospace\"><span style=\"font-weight: bold\"> Total params: </span><span style=\"color: #00af00; text-decoration-color: #00af00\">343,368</span> (1.31 MB)\n",
              "</pre>\n"
            ]
          },
          "metadata": {}
        },
        {
          "output_type": "display_data",
          "data": {
            "text/plain": [
              "\u001b[1m Trainable params: \u001b[0m\u001b[38;5;34m343,368\u001b[0m (1.31 MB)\n"
            ],
            "text/html": [
              "<pre style=\"white-space:pre;overflow-x:auto;line-height:normal;font-family:Menlo,'DejaVu Sans Mono',consolas,'Courier New',monospace\"><span style=\"font-weight: bold\"> Trainable params: </span><span style=\"color: #00af00; text-decoration-color: #00af00\">343,368</span> (1.31 MB)\n",
              "</pre>\n"
            ]
          },
          "metadata": {}
        },
        {
          "output_type": "display_data",
          "data": {
            "text/plain": [
              "\u001b[1m Non-trainable params: \u001b[0m\u001b[38;5;34m0\u001b[0m (0.00 B)\n"
            ],
            "text/html": [
              "<pre style=\"white-space:pre;overflow-x:auto;line-height:normal;font-family:Menlo,'DejaVu Sans Mono',consolas,'Courier New',monospace\"><span style=\"font-weight: bold\"> Non-trainable params: </span><span style=\"color: #00af00; text-decoration-color: #00af00\">0</span> (0.00 B)\n",
              "</pre>\n"
            ]
          },
          "metadata": {}
        }
      ],
      "source": [
        "keras.config.set_dtype_policy(\"mixed_float16\")\n",
        "\n",
        "def build_model(input_sequence_length=968):\n",
        "    inputs = layers.Input(shape=(input_sequence_length, 181))\n",
        "    print(\"Expected Model Input Shape:\", inputs.shape)\n",
        "\n",
        "    x = layers.GRU(128, return_sequences=True)(inputs)\n",
        "    # x = layers.Dropout(0.1)(x)\n",
        "    # x = layers.GRU(128, return_sequences=True)(x)\n",
        "    # x = layers.Dropout(0.1)(x)\n",
        "    x = layers.GRU(128)(x)\n",
        "    x = layers.Dropout(0.1)(x)\n",
        "    outputs = layers.Dense(input_sequence_length, activation='linear')(x)\n",
        "\n",
        "    model = Model(inputs, outputs)\n",
        "    # optimizer = keras.optimizers.Adam(learning_rate=1e-3, clipnorm=1.0)\n",
        "\n",
        "    model.compile(\n",
        "        optimizer='adam',\n",
        "        loss='mse',\n",
        "        metrics=['mae']\n",
        "    )\n",
        "    return model\n",
        "\n",
        "model = build_model()\n",
        "model.summary()"
      ]
    },
    {
      "cell_type": "code",
      "execution_count": 13,
      "metadata": {
        "id": "qSXPuRkGzlF3"
      },
      "outputs": [],
      "source": [
        "# keras.utils.plot_model(model, \"my_model_with_shape_info.png\", show_shapes=True)"
      ]
    },
    {
      "cell_type": "code",
      "execution_count": 14,
      "metadata": {
        "colab": {
          "base_uri": "https://localhost:8080/"
        },
        "id": "_eMDWHqlQsBZ",
        "outputId": "2627b602-75ac-438a-8a34-ed5fb99f2fda"
      },
      "outputs": [
        {
          "output_type": "stream",
          "name": "stdout",
          "text": [
            "Epoch 1/5\n",
            "\u001b[1m870/870\u001b[0m \u001b[32m━━━━━━━━━━━━━━━━━━━━\u001b[0m\u001b[37m\u001b[0m \u001b[1m583s\u001b[0m 667ms/step - loss: 0.7728 - mae: 0.5626 - val_loss: 0.6560 - val_mae: 0.5405\n",
            "Epoch 2/5\n",
            "\u001b[1m870/870\u001b[0m \u001b[32m━━━━━━━━━━━━━━━━━━━━\u001b[0m\u001b[37m\u001b[0m \u001b[1m542s\u001b[0m 621ms/step - loss: 0.7629 - mae: 0.5601 - val_loss: 0.6513 - val_mae: 0.5389\n",
            "Epoch 3/5\n",
            "\u001b[1m870/870\u001b[0m \u001b[32m━━━━━━━━━━━━━━━━━━━━\u001b[0m\u001b[37m\u001b[0m \u001b[1m540s\u001b[0m 619ms/step - loss: 0.7661 - mae: 0.5630 - val_loss: 0.6447 - val_mae: 0.5352\n",
            "Epoch 4/5\n",
            "\u001b[1m870/870\u001b[0m \u001b[32m━━━━━━━━━━━━━━━━━━━━\u001b[0m\u001b[37m\u001b[0m \u001b[1m548s\u001b[0m 629ms/step - loss: 0.7269 - mae: 0.5483 - val_loss: 0.6391 - val_mae: 0.5355\n",
            "Epoch 5/5\n",
            "\u001b[1m870/870\u001b[0m \u001b[32m━━━━━━━━━━━━━━━━━━━━\u001b[0m\u001b[37m\u001b[0m \u001b[1m539s\u001b[0m 617ms/step - loss: 0.7407 - mae: 0.5548 - val_loss: 0.6337 - val_mae: 0.5354\n",
            "CPU times: user 56min 8s, sys: 20min 55s, total: 1h 17min 4s\n",
            "Wall time: 45min 53s\n"
          ]
        }
      ],
      "source": [
        "%%time\n",
        "callback = keras.callbacks.EarlyStopping(\n",
        "        monitor='val_loss', patience=2, restore_best_weights=True\n",
        "        )\n",
        "\n",
        "history = model.fit(\n",
        "        train_generator,\n",
        "        epochs=5,\n",
        "        validation_data=(\n",
        "            valid_generator\n",
        "            ),\n",
        "        callbacks=[callback],\n",
        "        )"
      ]
    },
    {
      "cell_type": "code",
      "execution_count": 15,
      "metadata": {
        "id": "AWUyRL4ml81z"
      },
      "outputs": [],
      "source": [
        "# model.save(\"model_nn5.keras\")"
      ]
    },
    {
      "cell_type": "code",
      "execution_count": 16,
      "metadata": {
        "id": "obm_-o9woqWt",
        "colab": {
          "base_uri": "https://localhost:8080/"
        },
        "outputId": "e1fb72f5-2070-4531-b510-6ebca04623b5"
      },
      "outputs": [
        {
          "output_type": "stream",
          "name": "stdout",
          "text": [
            "\u001b[1m121/121\u001b[0m \u001b[32m━━━━━━━━━━━━━━━━━━━━\u001b[0m\u001b[37m\u001b[0m \u001b[1m60s\u001b[0m 493ms/step\n"
          ]
        }
      ],
      "source": [
        "preds = model.predict(valid_generator).reshape(-1)"
      ]
    },
    {
      "cell_type": "code",
      "execution_count": 17,
      "metadata": {
        "id": "c0FSSkuSmzMG",
        "colab": {
          "base_uri": "https://localhost:8080/"
        },
        "outputId": "d918734a-b610-43a0-d578-0fe9fad1e06b"
      },
      "outputs": [
        {
          "output_type": "stream",
          "name": "stdout",
          "text": [
            "\u001b[1m121/121\u001b[0m \u001b[32m━━━━━━━━━━━━━━━━━━━━\u001b[0m\u001b[37m\u001b[0m \u001b[1m59s\u001b[0m 481ms/step\n",
            "-1.988\n",
            "2.494\n"
          ]
        }
      ],
      "source": [
        "preds = model.predict(valid_generator).reshape(-1)\n",
        "print(preds.min())\n",
        "print(preds.max())"
      ]
    },
    {
      "cell_type": "code",
      "source": [
        "def weighted_r2(y_true, y_pred, sample_weight):\n",
        "    r2 = (1 - np.average((y_true - y_pred)**2, weights=sample_weight) /\n",
        "          (np.average(y_true**2, weights=sample_weight) + 1e-38)\n",
        "    )\n",
        "    return r2\n",
        "\n",
        "\n",
        "targets = []\n",
        "for i in range(len(valid_generator)):\n",
        "    targets.append(valid_generator[i][1].reshape(-1))\n",
        "targets = np.concatenate(targets)\n",
        "\n",
        "weights = []\n",
        "for i in range(len(valid_generator)):\n",
        "    weights.append(valid_generator[i][0].reshape(-1, 181)[:, 1])\n",
        "weights = np.concatenate(weights)\n",
        "\n",
        "weighted_r2(targets, preds, weights)"
      ],
      "metadata": {
        "id": "sO37PGa50bu6",
        "colab": {
          "base_uri": "https://localhost:8080/"
        },
        "outputId": "5ab92288-9e0e-4dc5-ed6f-8415b3102dd5"
      },
      "execution_count": 18,
      "outputs": [
        {
          "output_type": "execute_result",
          "data": {
            "text/plain": [
              "0.03578561568634786"
            ]
          },
          "metadata": {},
          "execution_count": 18
        }
      ]
    },
    {
      "cell_type": "code",
      "source": [],
      "metadata": {
        "id": "LfK_KtZSRGnc"
      },
      "execution_count": 18,
      "outputs": []
    }
  ],
  "metadata": {
    "colab": {
      "machine_shape": "hm",
      "provenance": [],
      "gpuType": "T4",
      "authorship_tag": "ABX9TyNrwvcMU8uZqTYrLvECzrDN"
    },
    "kernelspec": {
      "display_name": "Python 3",
      "name": "python3"
    },
    "language_info": {
      "name": "python"
    },
    "accelerator": "GPU"
  },
  "nbformat": 4,
  "nbformat_minor": 0
}