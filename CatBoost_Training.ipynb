{
  "cells": [
    {
      "cell_type": "code",
      "execution_count": 1,
      "metadata": {
        "colab": {
          "base_uri": "https://localhost:8080/"
        },
        "id": "3d9mTip0Ltnh",
        "outputId": "d5de18e9-d3bb-4a8b-dcd8-c54b6286461e"
      },
      "outputs": [
        {
          "output_type": "stream",
          "name": "stdout",
          "text": [
            "Drive already mounted at /content/drive; to attempt to forcibly remount, call drive.mount(\"/content/drive\", force_remount=True).\n"
          ]
        }
      ],
      "source": [
        "from google.colab import drive\n",
        "drive.mount('/content/drive')"
      ]
    },
    {
      "cell_type": "code",
      "execution_count": 2,
      "metadata": {
        "colab": {
          "base_uri": "https://localhost:8080/"
        },
        "id": "ri0oh6JrL2nm",
        "outputId": "2ee209cb-9996-4e34-f874-8d6ed0ff2cb0"
      },
      "outputs": [
        {
          "output_type": "stream",
          "name": "stdout",
          "text": [
            "Requirement already satisfied: polars==1.17.1 in /usr/local/lib/python3.11/dist-packages (1.17.1)\n",
            "Requirement already satisfied: catboost in /usr/local/lib/python3.11/dist-packages (1.2.7)\n",
            "Requirement already satisfied: graphviz in /usr/local/lib/python3.11/dist-packages (from catboost) (0.20.3)\n",
            "Requirement already satisfied: matplotlib in /usr/local/lib/python3.11/dist-packages (from catboost) (3.10.0)\n",
            "Requirement already satisfied: numpy<2.0,>=1.16.0 in /usr/local/lib/python3.11/dist-packages (from catboost) (1.26.4)\n",
            "Requirement already satisfied: pandas>=0.24 in /usr/local/lib/python3.11/dist-packages (from catboost) (2.2.2)\n",
            "Requirement already satisfied: scipy in /usr/local/lib/python3.11/dist-packages (from catboost) (1.13.1)\n",
            "Requirement already satisfied: plotly in /usr/local/lib/python3.11/dist-packages (from catboost) (5.24.1)\n",
            "Requirement already satisfied: six in /usr/local/lib/python3.11/dist-packages (from catboost) (1.17.0)\n",
            "Requirement already satisfied: python-dateutil>=2.8.2 in /usr/local/lib/python3.11/dist-packages (from pandas>=0.24->catboost) (2.8.2)\n",
            "Requirement already satisfied: pytz>=2020.1 in /usr/local/lib/python3.11/dist-packages (from pandas>=0.24->catboost) (2024.2)\n",
            "Requirement already satisfied: tzdata>=2022.7 in /usr/local/lib/python3.11/dist-packages (from pandas>=0.24->catboost) (2024.2)\n",
            "Requirement already satisfied: contourpy>=1.0.1 in /usr/local/lib/python3.11/dist-packages (from matplotlib->catboost) (1.3.1)\n",
            "Requirement already satisfied: cycler>=0.10 in /usr/local/lib/python3.11/dist-packages (from matplotlib->catboost) (0.12.1)\n",
            "Requirement already satisfied: fonttools>=4.22.0 in /usr/local/lib/python3.11/dist-packages (from matplotlib->catboost) (4.55.3)\n",
            "Requirement already satisfied: kiwisolver>=1.3.1 in /usr/local/lib/python3.11/dist-packages (from matplotlib->catboost) (1.4.8)\n",
            "Requirement already satisfied: packaging>=20.0 in /usr/local/lib/python3.11/dist-packages (from matplotlib->catboost) (24.2)\n",
            "Requirement already satisfied: pillow>=8 in /usr/local/lib/python3.11/dist-packages (from matplotlib->catboost) (11.1.0)\n",
            "Requirement already satisfied: pyparsing>=2.3.1 in /usr/local/lib/python3.11/dist-packages (from matplotlib->catboost) (3.2.1)\n",
            "Requirement already satisfied: tenacity>=6.2.0 in /usr/local/lib/python3.11/dist-packages (from plotly->catboost) (9.0.0)\n"
          ]
        }
      ],
      "source": [
        "!pip install polars==1.17.1\n",
        "!pip install catboost"
      ]
    },
    {
      "cell_type": "code",
      "execution_count": 3,
      "metadata": {
        "colab": {
          "base_uri": "https://localhost:8080/"
        },
        "id": "S6WLCR4FL9Zk",
        "outputId": "4a13bc9f-8088-4ac7-b2f2-099770d031ad"
      },
      "outputs": [
        {
          "output_type": "stream",
          "name": "stderr",
          "text": [
            "/usr/local/lib/python3.11/dist-packages/dask/dataframe/__init__.py:42: FutureWarning: \n",
            "Dask dataframe query planning is disabled because dask-expr is not installed.\n",
            "\n",
            "You can install it with `pip install dask[dataframe]` or `conda install dask`.\n",
            "This will raise in a future version.\n",
            "\n",
            "  warnings.warn(msg, FutureWarning)\n"
          ]
        }
      ],
      "source": [
        "import sys\n",
        "sys.path.append(\"/content/drive/MyDrive/Colab Notebooks/Utils/\")\n",
        "\n",
        "import numpy as np\n",
        "import pandas as pd\n",
        "from scipy import stats\n",
        "\n",
        "from sklearn.metrics import r2_score\n",
        "\n",
        "import polars as pl\n",
        "\n",
        "from itertools import combinations\n",
        "import lightgbm as lgb\n",
        "from catboost import CatBoostRegressor, EShapCalcType, EFeaturesSelectionAlgorithm, Pool\n",
        "\n",
        "from pathlib import Path\n",
        "from glob import glob\n",
        "\n",
        "import matplotlib.pyplot as plt\n",
        "import seaborn as sns\n",
        "import gc\n",
        "\n",
        "from statsmodels.graphics.tsaplots import plot_acf, plot_pacf\n",
        "import seaborn as sns\n",
        "\n",
        "# from combinatorial_purged_group_kfold import CombinatorialPurgedGroupKFold\n",
        "\n",
        "DATA_DIR = Path(\"/content/drive/MyDrive/Colab Notebooks/Jane_Street/data/train.parquet/\")"
      ]
    },
    {
      "cell_type": "code",
      "source": [
        "feature_09_dict = {\n",
        "    2: 0,\n",
        "    4: 1,\n",
        "    9: 2,\n",
        "    11: 3,\n",
        "    12: 4,\n",
        "    14: 5,\n",
        "    15: 6,\n",
        "    25: 7,\n",
        "    26: 8,\n",
        "    30: 9,\n",
        "    34: 10,\n",
        "    42: 11,\n",
        "    44: 12,\n",
        "    46: 13,\n",
        "    49: 14,\n",
        "    50: 15,\n",
        "    57: 16,\n",
        "    64: 17,\n",
        "    68: 18,\n",
        "    70: 19,\n",
        "    81: 20,\n",
        "    82: 21\n",
        "}\n",
        "feature_10_dict = {1: 0, 2: 1, 3: 2, 4: 3, 5: 4, 6: 5, 7: 6, 10: 7, 12: 8}\n",
        "feature_11_dict = {\n",
        "    9: 0,\n",
        "    11: 1,\n",
        "    13: 2,\n",
        "    16: 3,\n",
        "    24: 4,\n",
        "    25: 5,\n",
        "    34: 6,\n",
        "    40: 7,\n",
        "    48: 8,\n",
        "    50: 9,\n",
        "    59: 10,\n",
        "    62: 11,\n",
        "    63: 12,\n",
        "    66: 13,\n",
        "    76: 14,\n",
        "    150: 15,\n",
        "    158: 16,\n",
        "    159: 17,\n",
        "    171: 18,\n",
        "    195: 19,\n",
        "    214: 20,\n",
        "    230: 21,\n",
        "    261: 22,\n",
        "    297: 23,\n",
        "    336: 24,\n",
        "    376: 25,\n",
        "    388: 26,\n",
        "    410: 27,\n",
        "    522: 28,\n",
        "    534: 29,\n",
        "    539: 30\n",
        "}"
      ],
      "metadata": {
        "id": "Lx05kS9CepgD"
      },
      "execution_count": 4,
      "outputs": []
    },
    {
      "cell_type": "code",
      "source": [
        "def reduce_memory_usage() -> pl.Expr:\n",
        "    expressions = [\n",
        "        pl.col(pl.Float64).cast(pl.Float32),\n",
        "        pl.col(\"date_id\", \"time_id\").cast(pl.Int16),\n",
        "        pl.col(\"symbol_id\").cast(pl.Int8),\n",
        "        ]\n",
        "    return expressions\n",
        "\n",
        "def map_category() -> pl.Expr:\n",
        "    expressions = [\n",
        "        pl.col('symbol_id').replace({i: i for i in range(39)}).fill_null(99),\n",
        "        pl.col('feature_09').replace(feature_09_dict).fill_null(99),\n",
        "        pl.col('feature_10').replace(feature_10_dict).fill_null(99),\n",
        "        pl.col('feature_11').replace(feature_11_dict).fill_null(99),\n",
        "    ]\n",
        "    return expressions\n",
        "\n",
        "def get_temporal_features() -> pl.Expr:\n",
        "    expressions = [\n",
        "        (pl.col('date_id') % 170).alias('day'),\n",
        "        (pl.col('date_id') * 2 * np.pi / 170).sin().cast(pl.Float32).alias('date_sin'),\n",
        "        (pl.col('date_id') * 2 * np.pi / 170).cos().cast(pl.Float32).alias('date_cos'),\n",
        "        # (pl.col('time_id') * 2 * np.pi / 967).sin().cast(pl.Float32).alias('time_id_sin'),\n",
        "        # (pl.col('time_id') * 2 * np.pi / 967).cos().cast(pl.Float32).alias('time_id_cos')\n",
        "    ]\n",
        "    return expressions\n",
        "\n",
        "def get_lag_stats_per_day() -> pl.Expr:\n",
        "    group = [\"date_id\", \"symbol_id\"]\n",
        "    # cols = [f\"responder_{i}_lag_1\" for i in range(9)]\n",
        "    cols = ['responder_6_lag_1']\n",
        "    expressions = []\n",
        "    for col in cols:\n",
        "        exprs = [\n",
        "            # pl.col(col).min().over(group).alias(f\"{col}_min\"),\n",
        "            pl.col(col).max().over(group).alias(f\"{col}_max\"),\n",
        "            # pl.col(col).std().over(group).alias(f\"{col}_std\")\n",
        "            # pl.col(col).median().over(group).alias(f\"{col}_median_per_day\")\n",
        "        ]\n",
        "        expressions.extend(exprs)\n",
        "    return expressions\n",
        "\n",
        "def get_lag_features() -> pl.Expr:\n",
        "    group = ['symbol_id', 'date_id']\n",
        "    expressions = [\n",
        "        pl.col('feature_07').shift(2).over(group).alias('feature_07_lag'),\n",
        "        pl.col('feature_06').shift(1).over(group).alias('feature_06_lag'),\n",
        "        pl.col('feature_60').shift(2).over(group).alias('feature_60_lag'),\n",
        "        # pl.col('feature_04').shift(4).over(group).alias('feature_04_lag'),\n",
        "        # pl.col('feature_05').shift(5).over(group).alias('feature_05_lag'),\n",
        "        # pl.col('feature_36').shift(4).over(group).alias('feature_36_lag'),\n",
        "        # pl.col('feature_58').shift(4).over(group).alias('feature_58_lag'),\n",
        "        # pl.col('feature_59').shift(1).over(group).alias('feature_59_lag'),\n",
        "        # pl.col('feature_38').shift(8).over(group).alias('feature_38_lag'),\n",
        "        # pl.col('feature_52').shift(3).over(group).alias('feature_52_lag'),\n",
        "    ]\n",
        "    return expressions\n",
        "\n",
        "def generate_features(df, df_lags):\n",
        "    exprs_1 = [\n",
        "        map_category(),\n",
        "        get_temporal_features(),\n",
        "        get_lag_features(),\n",
        "    ]\n",
        "    expressions = [e for sublist in exprs_1 for e in sublist]\n",
        "    df = df.with_columns(reduce_memory_usage())\n",
        "    df = df.with_columns(\n",
        "        pl.col('feature_09').cast(pl.Int8),\n",
        "        pl.col('feature_10').cast(pl.Int8),\n",
        "        pl.col('feature_11').cast(pl.Int16),\n",
        "    )\n",
        "    df = df.with_columns(expressions)\n",
        "\n",
        "    df_lags = df_lags.with_columns(reduce_memory_usage())\n",
        "    df_lags = df_lags.with_columns(get_lag_stats_per_day())\n",
        "    df = df.join(\n",
        "        df_lags,\n",
        "        on=[\"date_id\", \"time_id\", \"symbol_id\"], how=\"left\"\n",
        "    )\n",
        "    ign_cols = [f\"responder_{i}_lag_1\" for i in range(9)] + ['date_id']\n",
        "    return df.select(pl.all().exclude(ign_cols))"
      ],
      "metadata": {
        "id": "C_n0gLw3U9wQ"
      },
      "execution_count": 5,
      "outputs": []
    },
    {
      "cell_type": "code",
      "source": [
        "def get_lag_responders() -> pl.Expr:\n",
        "    cols = [f\"responder_{i}\" for i in range(9)]\n",
        "    expressions = [\n",
        "        pl.col(col)\n",
        "        .shift(i)\n",
        "        .over('symbol_id', 'time_id')\n",
        "        .alias(f\"{col}_lag_{i}\")\n",
        "        for col in cols for i in [1] # lags\n",
        "        ]\n",
        "    return expressions\n",
        "\n",
        "train = pl.scan_parquet(DATA_DIR).filter(pl.col('partition_id')>5)\n",
        "train = train.with_columns(get_lag_responders()).collect()\n",
        "# remove nulls resulting from day 1 lags\n",
        "start_date = train.select('date_id')[0]\n",
        "train = train.filter(pl.col('date_id') > start_date)\n",
        "train.head()"
      ],
      "metadata": {
        "colab": {
          "base_uri": "https://localhost:8080/",
          "height": 272
        },
        "id": "PpCj_Ku9fjzM",
        "outputId": "15cb3587-8bad-4cf6-832d-5c7c5effde0c"
      },
      "execution_count": 6,
      "outputs": [
        {
          "output_type": "execute_result",
          "data": {
            "text/plain": [
              "shape: (5, 102)\n",
              "┌─────────┬─────────┬───────────┬──────────┬───┬────────────┬────────────┬────────────┬────────────┐\n",
              "│ date_id ┆ time_id ┆ symbol_id ┆ weight   ┆ … ┆ responder_ ┆ responder_ ┆ responder_ ┆ responder_ │\n",
              "│ ---     ┆ ---     ┆ ---       ┆ ---      ┆   ┆ 5_lag_1    ┆ 6_lag_1    ┆ 7_lag_1    ┆ 8_lag_1    │\n",
              "│ i16     ┆ i16     ┆ i8        ┆ f32      ┆   ┆ ---        ┆ ---        ┆ ---        ┆ ---        │\n",
              "│         ┆         ┆           ┆          ┆   ┆ f32        ┆ f32        ┆ f32        ┆ f32        │\n",
              "╞═════════╪═════════╪═══════════╪══════════╪═══╪════════════╪════════════╪════════════╪════════════╡\n",
              "│ 1021    ┆ 0       ┆ 0         ┆ 2.758212 ┆ … ┆ 1.222135   ┆ 1.82208    ┆ -0.699136  ┆ 2.865153   │\n",
              "│ 1021    ┆ 0       ┆ 1         ┆ 5.128181 ┆ … ┆ 1.235148   ┆ 0.914796   ┆ -0.717382  ┆ 0.643339   │\n",
              "│ 1021    ┆ 0       ┆ 2         ┆ 2.990457 ┆ … ┆ -0.464858  ┆ -0.793521  ┆ -0.717857  ┆ -1.547887  │\n",
              "│ 1021    ┆ 0       ┆ 3         ┆ 1.580349 ┆ … ┆ 0.545253   ┆ 0.198089   ┆ -1.289874  ┆ 0.688991   │\n",
              "│ 1021    ┆ 0       ┆ 4         ┆ 3.252043 ┆ … ┆ -1.370866  ┆ 0.328847   ┆ 0.035067   ┆ -1.773254  │\n",
              "└─────────┴─────────┴───────────┴──────────┴───┴────────────┴────────────┴────────────┴────────────┘"
            ],
            "text/html": [
              "<div><style>\n",
              ".dataframe > thead > tr,\n",
              ".dataframe > tbody > tr {\n",
              "  text-align: right;\n",
              "  white-space: pre-wrap;\n",
              "}\n",
              "</style>\n",
              "<small>shape: (5, 102)</small><table border=\"1\" class=\"dataframe\"><thead><tr><th>date_id</th><th>time_id</th><th>symbol_id</th><th>weight</th><th>feature_00</th><th>feature_01</th><th>feature_02</th><th>feature_03</th><th>feature_04</th><th>feature_05</th><th>feature_06</th><th>feature_07</th><th>feature_08</th><th>feature_09</th><th>feature_10</th><th>feature_11</th><th>feature_12</th><th>feature_13</th><th>feature_14</th><th>feature_15</th><th>feature_16</th><th>feature_17</th><th>feature_18</th><th>feature_19</th><th>feature_20</th><th>feature_21</th><th>feature_22</th><th>feature_23</th><th>feature_24</th><th>feature_25</th><th>feature_26</th><th>feature_27</th><th>feature_28</th><th>feature_29</th><th>feature_30</th><th>feature_31</th><th>feature_32</th><th>&hellip;</th><th>feature_61</th><th>feature_62</th><th>feature_63</th><th>feature_64</th><th>feature_65</th><th>feature_66</th><th>feature_67</th><th>feature_68</th><th>feature_69</th><th>feature_70</th><th>feature_71</th><th>feature_72</th><th>feature_73</th><th>feature_74</th><th>feature_75</th><th>feature_76</th><th>feature_77</th><th>feature_78</th><th>responder_0</th><th>responder_1</th><th>responder_2</th><th>responder_3</th><th>responder_4</th><th>responder_5</th><th>responder_6</th><th>responder_7</th><th>responder_8</th><th>partition_id</th><th>responder_0_lag_1</th><th>responder_1_lag_1</th><th>responder_2_lag_1</th><th>responder_3_lag_1</th><th>responder_4_lag_1</th><th>responder_5_lag_1</th><th>responder_6_lag_1</th><th>responder_7_lag_1</th><th>responder_8_lag_1</th></tr><tr><td>i16</td><td>i16</td><td>i8</td><td>f32</td><td>f32</td><td>f32</td><td>f32</td><td>f32</td><td>f32</td><td>f32</td><td>f32</td><td>f32</td><td>f32</td><td>i8</td><td>i8</td><td>i16</td><td>f32</td><td>f32</td><td>f32</td><td>f32</td><td>f32</td><td>f32</td><td>f32</td><td>f32</td><td>f32</td><td>f32</td><td>f32</td><td>f32</td><td>f32</td><td>f32</td><td>f32</td><td>f32</td><td>f32</td><td>f32</td><td>f32</td><td>f32</td><td>f32</td><td>&hellip;</td><td>f32</td><td>f32</td><td>f32</td><td>f32</td><td>f32</td><td>f32</td><td>f32</td><td>f32</td><td>f32</td><td>f32</td><td>f32</td><td>f32</td><td>f32</td><td>f32</td><td>f32</td><td>f32</td><td>f32</td><td>f32</td><td>f32</td><td>f32</td><td>f32</td><td>f32</td><td>f32</td><td>f32</td><td>f32</td><td>f32</td><td>f32</td><td>i64</td><td>f32</td><td>f32</td><td>f32</td><td>f32</td><td>f32</td><td>f32</td><td>f32</td><td>f32</td><td>f32</td></tr></thead><tbody><tr><td>1021</td><td>0</td><td>0</td><td>2.758212</td><td>-0.88871</td><td>-0.280876</td><td>-0.709766</td><td>-1.114013</td><td>2.130691</td><td>-0.675838</td><td>-0.217391</td><td>-0.15832</td><td>0.157831</td><td>11</td><td>7</td><td>76</td><td>-0.824303</td><td>1.321677</td><td>-0.211726</td><td>null</td><td>0.028558</td><td>null</td><td>-1.903073</td><td>-1.309708</td><td>0.56428</td><td>-0.113246</td><td>0.460829</td><td>0.874078</td><td>-0.634349</td><td>-0.989553</td><td>0.363487</td><td>1.548323</td><td>0.658012</td><td>-0.147794</td><td>-0.0248</td><td>-0.11404</td><td>null</td><td>&hellip;</td><td>0.822857</td><td>-0.120644</td><td>-0.096939</td><td>-0.165281</td><td>-1.85763</td><td>-1.983462</td><td>-0.761288</td><td>1.461293</td><td>-0.095967</td><td>-0.949327</td><td>0.945887</td><td>-0.22943</td><td>null</td><td>null</td><td>-0.086589</td><td>-0.138892</td><td>-0.339265</td><td>-0.208284</td><td>0.143218</td><td>0.036284</td><td>0.605471</td><td>-2.160379</td><td>-2.312699</td><td>-1.693053</td><td>-3.237157</td><td>-2.757349</td><td>-2.678967</td><td>6</td><td>0.05749</td><td>-0.02038</td><td>0.151817</td><td>1.176065</td><td>-0.683896</td><td>1.222135</td><td>1.82208</td><td>-0.699136</td><td>2.865153</td></tr><tr><td>1021</td><td>0</td><td>1</td><td>5.128181</td><td>-0.667143</td><td>-0.156818</td><td>-0.551448</td><td>-1.022433</td><td>1.902604</td><td>-0.591912</td><td>-0.243567</td><td>-0.178642</td><td>0.154012</td><td>11</td><td>7</td><td>76</td><td>-1.341635</td><td>0.35188</td><td>-0.521197</td><td>null</td><td>-0.344777</td><td>null</td><td>-1.983181</td><td>-1.479607</td><td>0.43023</td><td>0.102232</td><td>1.243619</td><td>1.429466</td><td>-0.268186</td><td>-0.352289</td><td>0.443074</td><td>1.538062</td><td>1.902193</td><td>-0.358995</td><td>-0.486083</td><td>0.120412</td><td>null</td><td>&hellip;</td><td>0.822857</td><td>-0.224284</td><td>-0.379963</td><td>-0.184559</td><td>-1.470559</td><td>-1.480629</td><td>-0.691343</td><td>0.60478</td><td>-0.246037</td><td>-1.084746</td><td>-0.031681</td><td>-0.598442</td><td>null</td><td>null</td><td>-0.292409</td><td>-0.29329</td><td>-0.189932</td><td>-0.304927</td><td>0.080642</td><td>0.031724</td><td>0.098682</td><td>-0.183446</td><td>-0.492214</td><td>0.865066</td><td>-0.417081</td><td>-0.854174</td><td>1.2233</td><td>6</td><td>-0.214946</td><td>-0.036094</td><td>-0.036046</td><td>0.525263</td><td>-0.434739</td><td>1.235148</td><td>0.914796</td><td>-0.717382</td><td>0.643339</td></tr><tr><td>1021</td><td>0</td><td>2</td><td>2.990457</td><td>-0.592874</td><td>-0.843829</td><td>-1.172633</td><td>-0.977152</td><td>1.665111</td><td>-0.780339</td><td>-0.248836</td><td>-0.295433</td><td>0.212535</td><td>81</td><td>2</td><td>59</td><td>-0.68717</td><td>4.194336</td><td>0.333165</td><td>null</td><td>-0.048717</td><td>null</td><td>-2.749262</td><td>-1.98124</td><td>-0.741161</td><td>-0.110016</td><td>0.762164</td><td>0.384524</td><td>-1.003869</td><td>-0.887358</td><td>0.924972</td><td>1.867121</td><td>1.078736</td><td>-0.892071</td><td>-0.564501</td><td>-0.161899</td><td>null</td><td>&hellip;</td><td>0.822857</td><td>-0.163303</td><td>-0.217823</td><td>-0.203042</td><td>-1.729299</td><td>-1.913308</td><td>-0.555369</td><td>4.493433</td><td>0.638722</td><td>-0.765278</td><td>2.414558</td><td>-0.003537</td><td>null</td><td>null</td><td>0.36877</td><td>0.558933</td><td>-0.099664</td><td>-0.018457</td><td>0.105283</td><td>0.214745</td><td>0.353996</td><td>-1.960483</td><td>-1.242982</td><td>-2.430258</td><td>-3.529213</td><td>-2.412281</td><td>-3.481411</td><td>6</td><td>-0.441242</td><td>-0.281995</td><td>0.155182</td><td>-1.106123</td><td>-0.77156</td><td>-0.464858</td><td>-0.793521</td><td>-0.717857</td><td>-1.547887</td></tr><tr><td>1021</td><td>0</td><td>3</td><td>1.580349</td><td>-0.949817</td><td>-0.223031</td><td>-0.797525</td><td>-0.895173</td><td>2.020643</td><td>-0.434421</td><td>-0.165368</td><td>-0.207286</td><td>0.163731</td><td>4</td><td>3</td><td>11</td><td>-0.966018</td><td>1.740896</td><td>-0.26865</td><td>null</td><td>-0.274083</td><td>null</td><td>-0.462178</td><td>-1.663668</td><td>-0.468623</td><td>-0.010726</td><td>-0.718504</td><td>-0.659684</td><td>0.657763</td><td>0.178212</td><td>-0.276047</td><td>-1.019963</td><td>-0.891104</td><td>-0.443206</td><td>-0.595868</td><td>-0.0089</td><td>null</td><td>&hellip;</td><td>0.822857</td><td>-0.211538</td><td>-0.221234</td><td>-0.141883</td><td>-1.854496</td><td>-1.293521</td><td>-0.906615</td><td>1.082458</td><td>-0.1356</td><td>-0.96185</td><td>1.193984</td><td>-0.453</td><td>null</td><td>null</td><td>1.113736</td><td>1.278999</td><td>0.051255</td><td>0.033749</td><td>0.078974</td><td>0.088442</td><td>0.710223</td><td>1.622804</td><td>2.530923</td><td>1.304712</td><td>2.790201</td><td>2.580255</td><td>1.266655</td><td>6</td><td>0.24601</td><td>0.362785</td><td>0.000741</td><td>0.304133</td><td>-0.598776</td><td>0.545253</td><td>0.198089</td><td>-1.289874</td><td>0.688991</td></tr><tr><td>1021</td><td>0</td><td>4</td><td>3.252043</td><td>-0.611066</td><td>-0.523858</td><td>-0.769166</td><td>-1.01305</td><td>1.424418</td><td>-0.265226</td><td>-0.093243</td><td>-0.09816</td><td>0.076199</td><td>15</td><td>1</td><td>9</td><td>-0.771626</td><td>4.367999</td><td>0.230222</td><td>null</td><td>-0.341415</td><td>null</td><td>-1.277562</td><td>-1.053409</td><td>-0.160347</td><td>0.884322</td><td>0.977945</td><td>-0.11547</td><td>2.352565</td><td>2.582544</td><td>-1.674891</td><td>-0.515939</td><td>0.555117</td><td>-0.733854</td><td>-1.190635</td><td>0.581692</td><td>null</td><td>&hellip;</td><td>0.822857</td><td>-0.216605</td><td>-0.376726</td><td>-0.490268</td><td>-2.035804</td><td>-2.006988</td><td>-0.55399</td><td>3.02505</td><td>0.347953</td><td>-0.657172</td><td>2.611223</td><td>-0.002669</td><td>null</td><td>null</td><td>8.576644</td><td>8.451904</td><td>9.772758</td><td>6.689439</td><td>-1.08646</td><td>-0.860899</td><td>-2.133953</td><td>1.432439</td><td>-2.483309</td><td>-1.849198</td><td>3.356596</td><td>-2.83107</td><td>-3.252782</td><td>6</td><td>-0.47304</td><td>-0.140053</td><td>-1.146351</td><td>0.145259</td><td>-0.030338</td><td>-1.370866</td><td>0.328847</td><td>0.035067</td><td>-1.773254</td></tr></tbody></table></div>"
            ]
          },
          "metadata": {},
          "execution_count": 6
        }
      ]
    },
    {
      "cell_type": "code",
      "source": [
        "data = train.filter(\n",
        "    pl.col('date_id')>1576,\n",
        "    pl.col('symbol_id')==0\n",
        "    ).select('feature_07').to_numpy().reshape(-1)\n",
        "plot_acf(data, lags = 10, title='Autocorrelation'); print()\n",
        "plot_pacf(data, lags = 10, title='Partial Autocorrelation'); print()"
      ],
      "metadata": {
        "colab": {
          "base_uri": "https://localhost:8080/",
          "height": 921
        },
        "id": "Ynm91Kb2zNna",
        "outputId": "2434179e-6b47-4e16-d04d-5874c40a0b25"
      },
      "execution_count": 7,
      "outputs": [
        {
          "output_type": "stream",
          "name": "stdout",
          "text": [
            "\n",
            "\n"
          ]
        },
        {
          "output_type": "display_data",
          "data": {
            "text/plain": [
              "<Figure size 640x480 with 1 Axes>"
            ],
            "image/png": "[encoded data removed]"
          },
          "metadata": {}
        },
        {
          "output_type": "display_data",
          "data": {
            "text/plain": [
              "<Figure size 640x480 with 1 Axes>"
            ],
            "image/png": "[encoded data removed]"
          },
          "metadata": {}
        }
      ]
    },
    {
      "cell_type": "code",
      "source": [
        "features = [f\"feature_{i:02}\" for i in range(79)]\n",
        "lag_responders = [f\"responder_{i}_lag_1\" for i in range(9)]\n",
        "\n",
        "params = {\n",
        "    'iterations': 1200,\n",
        "    'learning_rate': 0.02,\n",
        "    'depth': 8,\n",
        "    'l2_leaf_reg': 5,\n",
        "    'bootstrap_type': 'Bernoulli',\n",
        "    'subsample': 0.9,\n",
        "    'loss_function': 'RMSE',\n",
        "    'eval_metric': 'MAE',\n",
        "    'metric_period': 100,\n",
        "    'od_type': 'Iter',\n",
        "    'od_wait': 30,\n",
        "    'task_type': 'GPU',\n",
        "    'allow_writing_files': False,\n",
        "    'use_best_model': False\n",
        "}\n",
        "\n",
        "model = CatBoostRegressor(**params)\n",
        "\n",
        "x_train = generate_features(\n",
        "    train.filter(pl.col('date_id')<1576).select(['date_id', 'time_id', 'symbol_id', 'weight'] + features),\n",
        "    train.filter(pl.col('date_id')<1576).select(['date_id', 'time_id', 'symbol_id'] + lag_responders)\n",
        "    ).to_numpy()\n",
        "y_train = train.filter(pl.col('date_id')<1576).select('responder_6').to_numpy()\n",
        "\n",
        "x_valid = generate_features(\n",
        "    train.filter(pl.col('date_id')>1576).select(['date_id', 'time_id', 'symbol_id', 'weight'] + features),\n",
        "    train.filter(pl.col('date_id')>1576).select(['date_id', 'time_id', 'symbol_id'] + lag_responders)\n",
        "    ).to_numpy()\n",
        "y_valid = train.filter(pl.col('date_id')>1576).select('responder_6').to_numpy()\n",
        "\n",
        "model.fit(\n",
        "    Pool(x_train, y_train),\n",
        "    # verbose=False,\n",
        "    eval_set=[(x_valid, y_valid)]\n",
        ")"
      ],
      "metadata": {
        "id": "BOE-ff0iIBsb",
        "colab": {
          "base_uri": "https://localhost:8080/"
        },
        "outputId": "1bba4afd-d7ad-45e9-9197-8aa4f75cc70f"
      },
      "execution_count": 8,
      "outputs": [
        {
          "output_type": "stream",
          "name": "stdout",
          "text": [
            "0:\tlearn: 0.5512385\ttest: 0.5399264\tbest: 0.5399264 (0)\ttotal: 365ms\tremaining: 7m 17s\n",
            "100:\tlearn: 0.5484951\ttest: 0.5385427\tbest: 0.5385427 (100)\ttotal: 26.9s\tremaining: 4m 53s\n",
            "200:\tlearn: 0.5475404\ttest: 0.5383450\tbest: 0.5383450 (200)\ttotal: 53.9s\tremaining: 4m 27s\n",
            "300:\tlearn: 0.5467941\ttest: 0.5382276\tbest: 0.5382276 (300)\ttotal: 1m 22s\tremaining: 4m 5s\n",
            "400:\tlearn: 0.5461427\ttest: 0.5381622\tbest: 0.5381621 (391)\ttotal: 1m 50s\tremaining: 3m 39s\n",
            "500:\tlearn: 0.5456006\ttest: 0.5381176\tbest: 0.5381176 (500)\ttotal: 2m 18s\tremaining: 3m 12s\n",
            "bestTest = 0.538088437\n",
            "bestIteration = 569\n"
          ]
        },
        {
          "output_type": "execute_result",
          "data": {
            "text/plain": [
              "<catboost.core.CatBoostRegressor at 0x7a17dcba0090>"
            ]
          },
          "metadata": {},
          "execution_count": 8
        }
      ]
    },
    {
      "cell_type": "code",
      "source": [
        "def weighted_r2(y_true, y_pred, sample_weight):\n",
        "    r2 = (1 - np.average((y_true - y_pred)**2, weights=sample_weight) /\n",
        "          (np.average(y_true**2, weights=sample_weight) + 1e-38)\n",
        "    )\n",
        "    return r2\n",
        "\n",
        "r2_score = weighted_r2(\n",
        "    y_valid.reshape(-1),\n",
        "    model.predict(x_valid),\n",
        "    train.filter(pl.col('date_id')>1576).select('weight').to_numpy().reshape(-1)\n",
        ")\n",
        "print(\"r2_score:\",  r2_score.round(5))"
      ],
      "metadata": {
        "colab": {
          "base_uri": "https://localhost:8080/"
        },
        "id": "F4n3QdwbmEul",
        "outputId": "840bab1a-b6fd-4d9d-9d5f-2a45b238420e"
      },
      "execution_count": 9,
      "outputs": [
        {
          "output_type": "stream",
          "name": "stdout",
          "text": [
            "r2_score: 0.00924\n"
          ]
        }
      ]
    },
    {
      "cell_type": "code",
      "source": [
        "del x_train, y_train, x_valid, y_valid"
      ],
      "metadata": {
        "id": "ahTd3Q9Im1U9"
      },
      "execution_count": 10,
      "outputs": []
    },
    {
      "cell_type": "code",
      "source": [
        "gc.collect()"
      ],
      "metadata": {
        "colab": {
          "base_uri": "https://localhost:8080/"
        },
        "id": "HrZUyHv69vtn",
        "outputId": "8c2da3ad-ec28-4f13-e688-fb1263f31dae"
      },
      "execution_count": 11,
      "outputs": [
        {
          "output_type": "execute_result",
          "data": {
            "text/plain": [
              "6805"
            ]
          },
          "metadata": {},
          "execution_count": 11
        }
      ]
    },
    {
      "cell_type": "code",
      "source": [],
      "metadata": {
        "id": "cPnERG1M9z8G"
      },
      "execution_count": 11,
      "outputs": []
    }
  ],
  "metadata": {
    "colab": {
      "machine_shape": "hm",
      "provenance": [],
      "gpuType": "T4",
      "authorship_tag": "ABX9TyNA4aot2Wc2obzwEEkyl0NV"
    },
    "kernelspec": {
      "display_name": "Python 3",
      "name": "python3"
    },
    "language_info": {
      "name": "python"
    },
    "accelerator": "GPU"
  },
  "nbformat": 4,
  "nbformat_minor": 0
}